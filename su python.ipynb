{
 "cells": [
  {
   "cell_type": "code",
   "execution_count": 3,
   "id": "a84b9457-a05b-4a01-8b15-e30ee9d667eb",
   "metadata": {},
   "outputs": [
    {
     "name": "stdout",
     "output_type": "stream",
     "text": [
      "welcomethe home\n",
      "'code with harry'\n",
      " \"finishyour work\" \n"
     ]
    }
   ],
   "source": [
    "# print()\n",
    "print(\"welcomethe home\")\n",
    "print(\"'code with harry'\")\n",
    "print(' \"finishyour work\" ')\n"
   ]
  },
  {
   "cell_type": "code",
   "execution_count": 2,
   "id": "7a1cff03-7a4e-4f8f-ba73-332c84cb12e3",
   "metadata": {},
   "outputs": [
    {
     "name": "stdout",
     "output_type": "stream",
     "text": [
      "my number is 17\n",
      "given name is ricky\n",
      "given age is 22\n",
      "given location is konark\n",
      "given sal is 235566\n"
     ]
    }
   ],
   "source": [
    "number = 17\n",
    "print(\"my number is\",number)\n",
    "\n",
    "name = \"ricky\"\n",
    "age = 22\n",
    "location = \"konark\"\n",
    "sal = 235566\n",
    "\n",
    "print(\"given name is\",name)\n",
    "print(\"given age is\",age)\n",
    "print(\"given location is\",location)\n",
    "print(\"given sal is\",sal)"
   ]
  },
  {
   "cell_type": "code",
   "execution_count": 5,
   "id": "df278562-301c-49ba-96f1-f0376a408ba6",
   "metadata": {},
   "outputs": [
    {
     "name": "stdin",
     "output_type": "stream",
     "text": [
      "enter your name anish\n",
      "enter your sub math\n",
      "enter your mark 98\n",
      "enter your grade a+\n"
     ]
    },
    {
     "name": "stdout",
     "output_type": "stream",
     "text": [
      "enter name is anish\n",
      "enter sub is math\n",
      "enter mark is 98\n",
      "enter grade is a+\n"
     ]
    }
   ],
   "source": [
    "name = input(\"enter your name\")\n",
    "sub = input(\"enter your sub\")\n",
    "mark = input(\"enter your mark\")\n",
    "grade = input(\"enter your grade\")\n",
    "\n",
    "print(\"enter name is\",name)\n",
    "print(\"enter sub is\",sub)\n",
    "print(\"enter mark is\",mark)\n",
    "print(\"enter grade is\",grade)\n",
    "\n"
   ]
  },
  {
   "cell_type": "code",
   "execution_count": 9,
   "id": "526ce8a0-1ed2-40c9-bfd5-e7ef4b8943f5",
   "metadata": {},
   "outputs": [
    {
     "name": "stdin",
     "output_type": "stream",
     "text": [
      "enter your name anish\n",
      "enter your salary 64578568\n",
      "enter your height 6.2\n"
     ]
    },
    {
     "name": "stdout",
     "output_type": "stream",
     "text": [
      "enter your name anish\n",
      "enter your salary 64578568\n",
      "enter your height 6.2\n"
     ]
    }
   ],
   "source": [
    "# int\n",
    "# float\n",
    "#str()\n",
    "name = str(input(\"enter your name\"))\n",
    "salary = int(input(\"enter your salary\"))\n",
    "height = float(input(\"enter your height\"))\n",
    "\n",
    "print(\"enter your name\",name)\n",
    "print(\"enter your salary\",salary)\n",
    "print(\"enter your height\",height)\n"
   ]
  },
  {
   "cell_type": "code",
   "execution_count": 10,
   "id": "ecaa0d4d-3805-4fb6-825b-dab9dbf22bd2",
   "metadata": {},
   "outputs": [
    {
     "name": "stdout",
     "output_type": "stream",
     "text": [
      "399\n",
      "291\n",
      "18630\n",
      "6.388888888888889\n",
      "6\n",
      "21\n",
      "157464\n"
     ]
    }
   ],
   "source": [
    "# OPERATOR:-\n",
    "\n",
    "# ARITHNMATIC OPERATOR\n",
    "x = 345\n",
    "y= 54\n",
    "\n",
    "print(x + y)\n",
    "print(x - y)\n",
    "print(x * y)\n",
    "print(x / y)\n",
    "print(x // y)\n",
    "print(x % y)\n",
    "print(y ** 3)"
   ]
  },
  {
   "cell_type": "code",
   "execution_count": 11,
   "id": "72246aab-a4ec-4cb4-a8ef-88bbe1eb0c21",
   "metadata": {},
   "outputs": [
    {
     "name": "stdout",
     "output_type": "stream",
     "text": [
      "False\n",
      "True\n",
      "True\n",
      "True\n",
      "False\n",
      "True\n"
     ]
    }
   ],
   "source": [
    "# COMPARISION OPERATOR:-\n",
    "\n",
    "print(54 > 76)\n",
    "print(23 < 78)\n",
    "print(23 == 23)\n",
    "print(65 != 43)\n",
    "print(56 >= 90)\n",
    "print(12 <= 20)"
   ]
  },
  {
   "cell_type": "code",
   "execution_count": 15,
   "id": "59e414aa-4059-4690-bd51-ab1b02e296f0",
   "metadata": {},
   "outputs": [
    {
     "name": "stdout",
     "output_type": "stream",
     "text": [
      "True\n",
      "True\n",
      "False\n"
     ]
    }
   ],
   "source": [
    "# MEMBERSHIP OPERATOR:\n",
    "\n",
    "data = \"had your dinner\"\n",
    "print('y' in data)\n",
    "print('p' not in data)\n",
    "print('d' not in data)"
   ]
  },
  {
   "cell_type": "code",
   "execution_count": 13,
   "id": "584c2529-4f22-4a07-8f61-28454c153566",
   "metadata": {},
   "outputs": [
    {
     "name": "stdout",
     "output_type": "stream",
     "text": [
      "True\n",
      "True\n",
      "True\n",
      "False\n"
     ]
    }
   ],
   "source": [
    "# LOGICAL OPERATOR:-\n",
    " # and\n",
    "print(54 != 43 and 34 > 12)\n",
    "# or\n",
    "print(23 <= 89 or 60 ==60)\n",
    "# not\n",
    "print(not 32 > 65)\n",
    "print(56 > 86)"
   ]
  },
  {
   "cell_type": "code",
   "execution_count": 16,
   "id": "9f06e723-3c39-45b9-8be9-2cf8acb9ccf7",
   "metadata": {},
   "outputs": [
    {
     "name": "stdout",
     "output_type": "stream",
     "text": [
      "False\n",
      "True\n"
     ]
    }
   ],
   "source": [
    "# IDENTIFY OPERATORS:-\n",
    "# IS\n",
    "A = 45\n",
    "B = 67\n",
    "print(A is B)\n",
    "# is not\n",
    "print(A is not B)"
   ]
  },
  {
   "cell_type": "code",
   "execution_count": 23,
   "id": "d5abea2b-0f44-478c-95a3-7056aa69f6ba",
   "metadata": {},
   "outputs": [
    {
     "name": "stdout",
     "output_type": "stream",
     "text": [
      "a is smallest number\n",
      "c is greatest number\n"
     ]
    }
   ],
   "source": [
    "# IF ELSE\n",
    "a = 45\n",
    "b = 65 \n",
    "\n",
    "# find a is a smallest number\n",
    "\n",
    "if a < b :\n",
    "     print(\"a is smallest number\")\n",
    "else:\n",
    "    print(\"a is not smallest number\")\n",
    "\n",
    "a = 456\n",
    "b = 400\n",
    "c = 4536\n",
    "\n",
    "# find greatest number\n",
    "\n",
    "if a > b and a > c:\n",
    "    print(\"a is greatest number\")\n",
    "elif b > c and b > a:\n",
    "    print(\"b is greatest number\")\n",
    "else:\n",
    "    print(\"c is greatest number\")\n",
    "    \n",
    " "
   ]
  },
  {
   "cell_type": "code",
   "execution_count": null,
   "id": "32160394-bd8b-4b56-b145-cae34837d979",
   "metadata": {},
   "outputs": [],
   "source": [
    "\n"
   ]
  }
 ],
 "metadata": {
  "kernelspec": {
   "display_name": "Python 3 (ipykernel)",
   "language": "python",
   "name": "python3"
  },
  "language_info": {
   "codemirror_mode": {
    "name": "ipython",
    "version": 3
   },
   "file_extension": ".py",
   "mimetype": "text/x-python",
   "name": "python",
   "nbconvert_exporter": "python",
   "pygments_lexer": "ipython3",
   "version": "3.12.7"
  }
 },
 "nbformat": 4,
 "nbformat_minor": 5
}
