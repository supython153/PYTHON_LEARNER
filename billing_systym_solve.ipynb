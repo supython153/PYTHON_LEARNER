{
  "cells": [
    {
      "cell_type": "code",
      "source": [
        "# BILLING SYSTEM\n",
        "product1 = input(\"enter product 1\")\n",
        "product2 = input(\"enter product 2\")\n",
        "product3 = input(\"enter product 3\")\n",
        "product4 = input(\"enter product 4\")\n",
        "product5 = input(\"enter product 5\")\n",
        "price = int(input(\"enter product1 price\"))\n",
        "price2 = int(input(\"enter product2 price\"))\n",
        "price3 = int(input(\"enter product3 price\"))\n",
        "price4 = int(input(\"enter product4 price\"))\n",
        "price5 = int(input(\"enter product5 price\"))\n",
        "total = price + price2 + price3 + price4 + price5\n",
        "print(total)\n",
        "print(\"thank you for shopping\")\n",
        "GST = total * 100 / 16\n",
        "print(GST)\n",
        "\n",
        "\n"
      ],
      "metadata": {
        "colab": {
          "base_uri": "https://localhost:8080/"
        },
        "id": "ydbF5NcIv0uO",
        "outputId": "df0c51f6-38b0-4789-e90d-cb65fecb854f"
      },
      "execution_count": null,
      "outputs": [
        {
          "output_type": "stream",
          "name": "stdout",
          "text": [
            "enter product 1samosa\n",
            "enter product 2fafda\n",
            "enter product 3rasmalai\n",
            "enter product 4jalebi\n",
            "enter product 5malpua\n",
            "enter product1 price67\n",
            "enter product2 price456\n",
            "enter product3 price980\n",
            "enter product4 price547\n",
            "enter product5 price677\n",
            "2727\n",
            "thank you for shopping\n",
            "17043.75\n"
          ]
        }
      ]
    },
    {
      "cell_type": "code",
      "source": [
        "product1 = input(\"enter product 1\")\n",
        "product2 = input(\"enter product 2\")\n",
        "product3 = input(\"enter product 3\")\n",
        "\n",
        "price = int(input(\"enter product1 price\"))\n",
        "price2 = int(input(\"enter product2 price\"))\n",
        "price3 = int(input(\"enter product3 price\"))\n",
        "total = price + price2 + price3\n",
        "print(total)\n",
        "print(\"thank you for shopping\")\n",
        "GST = total * 100 / 20\n",
        "print(GST)\n",
        "selecte_offer = total * 5 /100\n",
        "print(selecte_offer)"
      ],
      "metadata": {
        "colab": {
          "base_uri": "https://localhost:8080/"
        },
        "id": "Qdi1rWtp6YHS",
        "outputId": "8cca4157-00b8-42b8-bd45-525540bbf339"
      },
      "execution_count": null,
      "outputs": [
        {
          "output_type": "stream",
          "name": "stdout",
          "text": [
            "enter product 1book\n",
            "enter product 2pen\n",
            "enter product 3mouse\n",
            "enter product1 price250\n",
            "enter product2 price650\n",
            "enter product3 price575\n",
            "1475\n",
            "thank you for shopping\n",
            "7375.0\n",
            "73.75\n"
          ]
        }
      ]
    },
    {
      "cell_type": "code",
      "source": [
        "#   HOME LOAN EMI CALCULATOR\n",
        "Loan_Amount = int(input(\"enter loan amount\"))\n",
        "time = int(input(\"enter time\"))\n",
        "rate = int(input(\"enter rate of intrest\"))\n",
        "monthly_Home_loan_EMI = Loan_Amount * rate * time / 100\n",
        "print(monthly_Home_loan_EMI)\n",
        "principal_Amount = Loan_Amount * time\n",
        "print(principal_Amount)\n",
        "Interest_amount = monthly_Home_loan_EMI * time\n",
        "print(Interest_amount)\n",
        "total_amount = Loan_Amount + Interest_amount\n",
        "print(total_amount)"
      ],
      "metadata": {
        "colab": {
          "base_uri": "https://localhost:8080/"
        },
        "id": "_Z_ChfJQ-IG1",
        "outputId": "d1d89d45-7c35-4c56-d516-8f28eb0b2cbe"
      },
      "execution_count": null,
      "outputs": [
        {
          "output_type": "stream",
          "name": "stdout",
          "text": [
            "enter loan amount7451512\n",
            "enter time15\n",
            "enter rate of intrest35\n",
            "39120438.0\n",
            "111772680\n",
            "586806570.0\n",
            "594258082.0\n"
          ]
        }
      ]
    },
    {
      "cell_type": "code",
      "source": [
        "\n",
        " # BILLING STOCK SYSTEM\n",
        "sku1 = int(input(\"enter unique number1 :\"))\n",
        "sku2 = int(input(\"enter unique number2 :\"))\n",
        "sku3 = int(input(\"enter unique number3 :\"))\n",
        "\n",
        "product_Name = input(\"enter product name :\")\n",
        "product_Name2 = input(\"enter product name2 :\")\n",
        "product_Name3 = input(\"enter product name3 :\")\n",
        "\n",
        "quantity1 = int(input(\"enter quantity1 :\"))\n",
        "quantity2 = int(input(\"enter quantity2 :\"))\n",
        "quantity3 = int(input(\"enter quantity3 :\"))\n",
        "\n",
        "single_piece_price1 = int(input(\"enter single piece price1 :\"))\n",
        "single_piece_price2 = int(input(\"enter single piece price2 :\"))\n",
        "single_piece_price3 = int(input(\"enter single piece price3 :\"))\n",
        "\n",
        "total_amount = quantity1 * single_piece_price1 + quantity2 * single_piece_price2 + quantity3 * single_piece_price3\n",
        "print(total_amount)"
      ],
      "metadata": {
        "colab": {
          "base_uri": "https://localhost:8080/"
        },
        "id": "xgfB63gMEvwT",
        "outputId": "f5cef650-b0fd-4d02-dcd6-21aebd88d1f6"
      },
      "execution_count": null,
      "outputs": [
        {
          "output_type": "stream",
          "name": "stdout",
          "text": [
            "enter unique number1 :12\n",
            "enter unique number2 :13\n",
            "enter unique number3 :14\n",
            "enter product name :books\n",
            "enter product name2 :keyboard\n",
            "enter product name3 :mouse\n",
            "enter quantity1 :3\n",
            "enter quantity2 :67\n",
            "enter quantity3 :32\n",
            "enter single piece price1 :34\n",
            "enter single piece price2 :76\n",
            "enter single piece price3 :90\n",
            "8074\n"
          ]
        }
      ]
    }
  ],
  "metadata": {
    "colab": {
      "provenance": []
    },
    "kernelspec": {
      "display_name": "Python 3",
      "name": "python3"
    }
  },
  "nbformat": 4,
  "nbformat_minor": 0
}